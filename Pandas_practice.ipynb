{
 "cells": [
  {
   "cell_type": "markdown",
   "metadata": {
    "id": "Zhdo4-FfEFP_"
   },
   "source": [
    "# Data Analysis with Pandas Course"
   ]
  },
  {
   "cell_type": "markdown",
   "metadata": {
    "id": "w8qMMtyAEKaW"
   },
   "source": [
    "## Pre-requisites"
   ]
  },
  {
   "cell_type": "code",
   "execution_count": 1,
   "metadata": {
    "id": "6vl5aRR6DZJv"
   },
   "outputs": [],
   "source": [
    "# Import the Pandas library\n",
    "import pandas as pd"
   ]
  },
  {
   "cell_type": "markdown",
   "metadata": {
    "id": "HmQIZGyHEM1N"
   },
   "source": [
    "## 1. Importing Data"
   ]
  },
  {
   "cell_type": "markdown",
   "metadata": {
    "id": "HiAd-LgnFLHm"
   },
   "source": [
    "### 1.1 Importing from a CSV file"
   ]
  },
  {
   "cell_type": "markdown",
   "metadata": {
    "id": "s-91CJesPEla"
   },
   "source": [
    "Reading CSV files with Pandas is a crucial concept in data analysis as it allows us to import data from CSV files, which are commonly used to store large datasets. CSV stands for Comma Separated Values and is a simple file format that is widely supported by consumer, business, and scientific applications."
   ]
  },
  {
   "cell_type": "code",
   "execution_count": 2,
   "metadata": {
    "id": "X1zN2rpDEkqY"
   },
   "outputs": [
    {
     "data": {
      "text/html": [
       "<div>\n",
       "<style scoped>\n",
       "    .dataframe tbody tr th:only-of-type {\n",
       "        vertical-align: middle;\n",
       "    }\n",
       "\n",
       "    .dataframe tbody tr th {\n",
       "        vertical-align: top;\n",
       "    }\n",
       "\n",
       "    .dataframe thead th {\n",
       "        text-align: right;\n",
       "    }\n",
       "</style>\n",
       "<table border=\"1\" class=\"dataframe\">\n",
       "  <thead>\n",
       "    <tr style=\"text-align: right;\">\n",
       "      <th></th>\n",
       "      <th>TransactionID</th>\n",
       "      <th>Product</th>\n",
       "      <th>Quantity</th>\n",
       "      <th>Price</th>\n",
       "      <th>CustomerID</th>\n",
       "      <th>CustomerName</th>\n",
       "    </tr>\n",
       "  </thead>\n",
       "  <tbody>\n",
       "    <tr>\n",
       "      <th>0</th>\n",
       "      <td>1</td>\n",
       "      <td>Apple</td>\n",
       "      <td>20</td>\n",
       "      <td>0.5</td>\n",
       "      <td>101</td>\n",
       "      <td>John Doe</td>\n",
       "    </tr>\n",
       "    <tr>\n",
       "      <th>1</th>\n",
       "      <td>2</td>\n",
       "      <td>Banana</td>\n",
       "      <td>10</td>\n",
       "      <td>0.3</td>\n",
       "      <td>102</td>\n",
       "      <td>Jane Smith</td>\n",
       "    </tr>\n",
       "    <tr>\n",
       "      <th>2</th>\n",
       "      <td>3</td>\n",
       "      <td>Orange</td>\n",
       "      <td>15</td>\n",
       "      <td>0.6</td>\n",
       "      <td>103</td>\n",
       "      <td>Bob Johnson</td>\n",
       "    </tr>\n",
       "    <tr>\n",
       "      <th>3</th>\n",
       "      <td>4</td>\n",
       "      <td>Apple</td>\n",
       "      <td>25</td>\n",
       "      <td>0.5</td>\n",
       "      <td>104</td>\n",
       "      <td>Sarah Lee</td>\n",
       "    </tr>\n",
       "    <tr>\n",
       "      <th>4</th>\n",
       "      <td>5</td>\n",
       "      <td>Banana</td>\n",
       "      <td>30</td>\n",
       "      <td>0.3</td>\n",
       "      <td>105</td>\n",
       "      <td>Anna Nguyen</td>\n",
       "    </tr>\n",
       "  </tbody>\n",
       "</table>\n",
       "</div>"
      ],
      "text/plain": [
       "   TransactionID Product  Quantity  Price  CustomerID CustomerName\n",
       "0              1   Apple        20    0.5         101     John Doe\n",
       "1              2  Banana        10    0.3         102   Jane Smith\n",
       "2              3  Orange        15    0.6         103  Bob Johnson\n",
       "3              4   Apple        25    0.5         104    Sarah Lee\n",
       "4              5  Banana        30    0.3         105  Anna Nguyen"
      ]
     },
     "execution_count": 2,
     "metadata": {},
     "output_type": "execute_result"
    }
   ],
   "source": [
    "# Load the dataset\n",
    "df = pd.read_csv(\"https://afterwork.ai/ds/e/retail_store_81uml.csv\")\n",
    "\n",
    "# Preview the dataset\n",
    "df.head()"
   ]
  },
  {
   "cell_type": "markdown",
   "metadata": {
    "id": "dPnc4u_2FUHn"
   },
   "source": [
    "### 1.2 Importing from an Excel file"
   ]
  },
  {
   "cell_type": "markdown",
   "metadata": {
    "id": "pKu2fWpYSLe2"
   },
   "source": [
    "Reading Excel files in Python using Pandas is a crucial skill in data analysis. It allows us to import data from Excel files, which are widely used in many fields."
   ]
  },
  {
   "cell_type": "code",
   "execution_count": 3,
   "metadata": {
    "id": "Q85ap8ckFUHo"
   },
   "outputs": [
    {
     "data": {
      "text/html": [
       "<div>\n",
       "<style scoped>\n",
       "    .dataframe tbody tr th:only-of-type {\n",
       "        vertical-align: middle;\n",
       "    }\n",
       "\n",
       "    .dataframe tbody tr th {\n",
       "        vertical-align: top;\n",
       "    }\n",
       "\n",
       "    .dataframe thead th {\n",
       "        text-align: right;\n",
       "    }\n",
       "</style>\n",
       "<table border=\"1\" class=\"dataframe\">\n",
       "  <thead>\n",
       "    <tr style=\"text-align: right;\">\n",
       "      <th></th>\n",
       "      <th>ProductID</th>\n",
       "      <th>ProductName</th>\n",
       "      <th>Category</th>\n",
       "      <th>Price</th>\n",
       "      <th>QuantitySold</th>\n",
       "    </tr>\n",
       "  </thead>\n",
       "  <tbody>\n",
       "    <tr>\n",
       "      <th>0</th>\n",
       "      <td>1</td>\n",
       "      <td>Apple</td>\n",
       "      <td>Produce</td>\n",
       "      <td>0.5</td>\n",
       "      <td>100</td>\n",
       "    </tr>\n",
       "    <tr>\n",
       "      <th>1</th>\n",
       "      <td>2</td>\n",
       "      <td>Banana</td>\n",
       "      <td>Produce</td>\n",
       "      <td>0.3</td>\n",
       "      <td>150</td>\n",
       "    </tr>\n",
       "    <tr>\n",
       "      <th>2</th>\n",
       "      <td>3</td>\n",
       "      <td>Carrot</td>\n",
       "      <td>Produce</td>\n",
       "      <td>0.7</td>\n",
       "      <td>80</td>\n",
       "    </tr>\n",
       "    <tr>\n",
       "      <th>3</th>\n",
       "      <td>4</td>\n",
       "      <td>Detergent</td>\n",
       "      <td>Cleaning</td>\n",
       "      <td>5.0</td>\n",
       "      <td>50</td>\n",
       "    </tr>\n",
       "    <tr>\n",
       "      <th>4</th>\n",
       "      <td>5</td>\n",
       "      <td>Eggs</td>\n",
       "      <td>Dairy</td>\n",
       "      <td>2.0</td>\n",
       "      <td>120</td>\n",
       "    </tr>\n",
       "  </tbody>\n",
       "</table>\n",
       "</div>"
      ],
      "text/plain": [
       "   ProductID ProductName  Category  Price  QuantitySold\n",
       "0          1       Apple   Produce    0.5           100\n",
       "1          2      Banana   Produce    0.3           150\n",
       "2          3      Carrot   Produce    0.7            80\n",
       "3          4   Detergent  Cleaning    5.0            50\n",
       "4          5        Eggs     Dairy    2.0           120"
      ]
     },
     "execution_count": 3,
     "metadata": {},
     "output_type": "execute_result"
    }
   ],
   "source": [
    "# Load the dataset\n",
    "df = pd.read_excel(\"https://bit.ly/retail_store_ds\")\n",
    "\n",
    "# Preview the dataset\n",
    "df.head()"
   ]
  },
  {
   "cell_type": "markdown",
   "metadata": {
    "id": "NBTQVCpFRV4A"
   },
   "source": [
    "### Challenges"
   ]
  },
  {
   "cell_type": "markdown",
   "metadata": {
    "id": "N47kvM2GRXit"
   },
   "source": [
    "#### Challenge 1"
   ]
  },
  {
   "cell_type": "markdown",
   "metadata": {
    "id": "n9ESiUgZR7AE"
   },
   "source": [
    "Using the pandas library in Python, read the CSV file from the URL https://afterwork.ai/ds/ch/retail_store_1jtq.csv and store it in a DataFrame. Then, display the first 5 rows of the DataFrame to ensure that the data has been loaded correctly."
   ]
  },
  {
   "cell_type": "code",
   "execution_count": 4,
   "metadata": {
    "id": "n1W_JrWXRads"
   },
   "outputs": [
    {
     "data": {
      "text/html": [
       "<div>\n",
       "<style scoped>\n",
       "    .dataframe tbody tr th:only-of-type {\n",
       "        vertical-align: middle;\n",
       "    }\n",
       "\n",
       "    .dataframe tbody tr th {\n",
       "        vertical-align: top;\n",
       "    }\n",
       "\n",
       "    .dataframe thead th {\n",
       "        text-align: right;\n",
       "    }\n",
       "</style>\n",
       "<table border=\"1\" class=\"dataframe\">\n",
       "  <thead>\n",
       "    <tr style=\"text-align: right;\">\n",
       "      <th></th>\n",
       "      <th>ProductID</th>\n",
       "      <th>ProductName</th>\n",
       "      <th>Category</th>\n",
       "      <th>Price</th>\n",
       "      <th>QuantitySold</th>\n",
       "      <th>DateSold</th>\n",
       "    </tr>\n",
       "  </thead>\n",
       "  <tbody>\n",
       "    <tr>\n",
       "      <th>0</th>\n",
       "      <td>1001</td>\n",
       "      <td>Apple iPhone 12</td>\n",
       "      <td>Electronics</td>\n",
       "      <td>799</td>\n",
       "      <td>50</td>\n",
       "      <td>2022-01-01</td>\n",
       "    </tr>\n",
       "    <tr>\n",
       "      <th>1</th>\n",
       "      <td>1002</td>\n",
       "      <td>Samsung Galaxy S21</td>\n",
       "      <td>Electronics</td>\n",
       "      <td>699</td>\n",
       "      <td>30</td>\n",
       "      <td>2022-01-02</td>\n",
       "    </tr>\n",
       "    <tr>\n",
       "      <th>2</th>\n",
       "      <td>1003</td>\n",
       "      <td>HP Pavilion Laptop</td>\n",
       "      <td>Electronics</td>\n",
       "      <td>599</td>\n",
       "      <td>20</td>\n",
       "      <td>2022-01-03</td>\n",
       "    </tr>\n",
       "    <tr>\n",
       "      <th>3</th>\n",
       "      <td>1004</td>\n",
       "      <td>Sony 4K TV</td>\n",
       "      <td>Electronics</td>\n",
       "      <td>999</td>\n",
       "      <td>15</td>\n",
       "      <td>2022-01-04</td>\n",
       "    </tr>\n",
       "    <tr>\n",
       "      <th>4</th>\n",
       "      <td>1005</td>\n",
       "      <td>Nike Running Shoes</td>\n",
       "      <td>Clothing</td>\n",
       "      <td>120</td>\n",
       "      <td>100</td>\n",
       "      <td>2022-01-05</td>\n",
       "    </tr>\n",
       "  </tbody>\n",
       "</table>\n",
       "</div>"
      ],
      "text/plain": [
       "   ProductID         ProductName     Category  Price  QuantitySold    DateSold\n",
       "0       1001     Apple iPhone 12  Electronics    799            50  2022-01-01\n",
       "1       1002  Samsung Galaxy S21  Electronics    699            30  2022-01-02\n",
       "2       1003  HP Pavilion Laptop  Electronics    599            20  2022-01-03\n",
       "3       1004          Sony 4K TV  Electronics    999            15  2022-01-04\n",
       "4       1005  Nike Running Shoes     Clothing    120           100  2022-01-05"
      ]
     },
     "execution_count": 4,
     "metadata": {},
     "output_type": "execute_result"
    }
   ],
   "source": [
    "# Write your code here\n",
    "df1 = pd.read_csv(\"https://afterwork.ai/ds/ch/retail_store_1jtq.csv\")\n",
    "df1.head()"
   ]
  },
  {
   "cell_type": "markdown",
   "metadata": {
    "id": "-rAlNGbPElHd"
   },
   "source": [
    "## 2. Selecting Data"
   ]
  },
  {
   "cell_type": "markdown",
   "metadata": {
    "id": "n_TogM_PFbW7"
   },
   "source": [
    "### 2.1 Column Selection"
   ]
  },
  {
   "cell_type": "markdown",
   "metadata": {
    "id": "uppRvvsKG0B9"
   },
   "source": [
    "Column selection in Pandas is a fundamental concept in data analysis that allows us to isolate specific data for further analysis. This is done using Python and the Pandas library. The concept is important because it allows us to focus on specific data within a larger dataset, which can make our analysis more efficient and targeted."
   ]
  },
  {
   "cell_type": "code",
   "execution_count": 5,
   "metadata": {
    "id": "7jsLjW7TEn0f"
   },
   "outputs": [
    {
     "data": {
      "text/html": [
       "<div>\n",
       "<style scoped>\n",
       "    .dataframe tbody tr th:only-of-type {\n",
       "        vertical-align: middle;\n",
       "    }\n",
       "\n",
       "    .dataframe tbody tr th {\n",
       "        vertical-align: top;\n",
       "    }\n",
       "\n",
       "    .dataframe thead th {\n",
       "        text-align: right;\n",
       "    }\n",
       "</style>\n",
       "<table border=\"1\" class=\"dataframe\">\n",
       "  <thead>\n",
       "    <tr style=\"text-align: right;\">\n",
       "      <th></th>\n",
       "      <th>ProductID</th>\n",
       "      <th>ProductName</th>\n",
       "      <th>Category</th>\n",
       "      <th>Price</th>\n",
       "      <th>QuantitySold</th>\n",
       "      <th>DateSold</th>\n",
       "    </tr>\n",
       "  </thead>\n",
       "  <tbody>\n",
       "    <tr>\n",
       "      <th>0</th>\n",
       "      <td>1001</td>\n",
       "      <td>Apple iPhone 12</td>\n",
       "      <td>Electronics</td>\n",
       "      <td>799</td>\n",
       "      <td>50</td>\n",
       "      <td>2022-01-01</td>\n",
       "    </tr>\n",
       "    <tr>\n",
       "      <th>1</th>\n",
       "      <td>1002</td>\n",
       "      <td>Samsung Galaxy S21</td>\n",
       "      <td>Electronics</td>\n",
       "      <td>699</td>\n",
       "      <td>30</td>\n",
       "      <td>2022-01-02</td>\n",
       "    </tr>\n",
       "    <tr>\n",
       "      <th>2</th>\n",
       "      <td>1003</td>\n",
       "      <td>HP Pavilion Laptop</td>\n",
       "      <td>Electronics</td>\n",
       "      <td>599</td>\n",
       "      <td>20</td>\n",
       "      <td>2022-01-03</td>\n",
       "    </tr>\n",
       "    <tr>\n",
       "      <th>3</th>\n",
       "      <td>1004</td>\n",
       "      <td>Sony 4K TV</td>\n",
       "      <td>Electronics</td>\n",
       "      <td>999</td>\n",
       "      <td>15</td>\n",
       "      <td>2022-01-04</td>\n",
       "    </tr>\n",
       "    <tr>\n",
       "      <th>4</th>\n",
       "      <td>1005</td>\n",
       "      <td>Nike Running Shoes</td>\n",
       "      <td>Clothing</td>\n",
       "      <td>120</td>\n",
       "      <td>100</td>\n",
       "      <td>2022-01-05</td>\n",
       "    </tr>\n",
       "  </tbody>\n",
       "</table>\n",
       "</div>"
      ],
      "text/plain": [
       "   ProductID         ProductName     Category  Price  QuantitySold    DateSold\n",
       "0       1001     Apple iPhone 12  Electronics    799            50  2022-01-01\n",
       "1       1002  Samsung Galaxy S21  Electronics    699            30  2022-01-02\n",
       "2       1003  HP Pavilion Laptop  Electronics    599            20  2022-01-03\n",
       "3       1004          Sony 4K TV  Electronics    999            15  2022-01-04\n",
       "4       1005  Nike Running Shoes     Clothing    120           100  2022-01-05"
      ]
     },
     "execution_count": 5,
     "metadata": {},
     "output_type": "execute_result"
    }
   ],
   "source": [
    "# Load the dataset\n",
    "df = pd.read_csv('https://afterwork.ai/ds/e/retail_store_baje.csv')\n",
    "\n",
    "# Preview the dataset\n",
    "df1.head()"
   ]
  },
  {
   "cell_type": "code",
   "execution_count": 6,
   "metadata": {
    "id": "OMzi95UmG_cf"
   },
   "outputs": [
    {
     "data": {
      "text/html": [
       "<div>\n",
       "<style scoped>\n",
       "    .dataframe tbody tr th:only-of-type {\n",
       "        vertical-align: middle;\n",
       "    }\n",
       "\n",
       "    .dataframe tbody tr th {\n",
       "        vertical-align: top;\n",
       "    }\n",
       "\n",
       "    .dataframe thead th {\n",
       "        text-align: right;\n",
       "    }\n",
       "</style>\n",
       "<table border=\"1\" class=\"dataframe\">\n",
       "  <thead>\n",
       "    <tr style=\"text-align: right;\">\n",
       "      <th></th>\n",
       "      <th>ProductName</th>\n",
       "    </tr>\n",
       "  </thead>\n",
       "  <tbody>\n",
       "    <tr>\n",
       "      <th>0</th>\n",
       "      <td>Apple iPhone 12</td>\n",
       "    </tr>\n",
       "    <tr>\n",
       "      <th>1</th>\n",
       "      <td>Samsung Galaxy S21</td>\n",
       "    </tr>\n",
       "    <tr>\n",
       "      <th>2</th>\n",
       "      <td>HP Pavilion Laptop</td>\n",
       "    </tr>\n",
       "    <tr>\n",
       "      <th>3</th>\n",
       "      <td>Sony 4K TV</td>\n",
       "    </tr>\n",
       "    <tr>\n",
       "      <th>4</th>\n",
       "      <td>Nike Running Shoes</td>\n",
       "    </tr>\n",
       "  </tbody>\n",
       "</table>\n",
       "</div>"
      ],
      "text/plain": [
       "          ProductName\n",
       "0     Apple iPhone 12\n",
       "1  Samsung Galaxy S21\n",
       "2  HP Pavilion Laptop\n",
       "3          Sony 4K TV\n",
       "4  Nike Running Shoes"
      ]
     },
     "execution_count": 6,
     "metadata": {},
     "output_type": "execute_result"
    }
   ],
   "source": [
    "# Select the 'ProductName' column\n",
    "product_names = df1[['ProductName']]\n",
    "\n",
    "# Display the column\n",
    "product_names.head()"
   ]
  },
  {
   "cell_type": "code",
   "execution_count": 7,
   "metadata": {
    "id": "u_Ghr02dHHol"
   },
   "outputs": [
    {
     "data": {
      "text/html": [
       "<div>\n",
       "<style scoped>\n",
       "    .dataframe tbody tr th:only-of-type {\n",
       "        vertical-align: middle;\n",
       "    }\n",
       "\n",
       "    .dataframe tbody tr th {\n",
       "        vertical-align: top;\n",
       "    }\n",
       "\n",
       "    .dataframe thead th {\n",
       "        text-align: right;\n",
       "    }\n",
       "</style>\n",
       "<table border=\"1\" class=\"dataframe\">\n",
       "  <thead>\n",
       "    <tr style=\"text-align: right;\">\n",
       "      <th></th>\n",
       "      <th>Price</th>\n",
       "    </tr>\n",
       "  </thead>\n",
       "  <tbody>\n",
       "    <tr>\n",
       "      <th>0</th>\n",
       "      <td>799</td>\n",
       "    </tr>\n",
       "    <tr>\n",
       "      <th>1</th>\n",
       "      <td>699</td>\n",
       "    </tr>\n",
       "    <tr>\n",
       "      <th>2</th>\n",
       "      <td>599</td>\n",
       "    </tr>\n",
       "    <tr>\n",
       "      <th>3</th>\n",
       "      <td>999</td>\n",
       "    </tr>\n",
       "    <tr>\n",
       "      <th>4</th>\n",
       "      <td>120</td>\n",
       "    </tr>\n",
       "  </tbody>\n",
       "</table>\n",
       "</div>"
      ],
      "text/plain": [
       "   Price\n",
       "0    799\n",
       "1    699\n",
       "2    599\n",
       "3    999\n",
       "4    120"
      ]
     },
     "execution_count": 7,
     "metadata": {},
     "output_type": "execute_result"
    }
   ],
   "source": [
    "# Select the 'Price' column\n",
    "prices = df1[['Price']]\n",
    "\n",
    "# Display the column\n",
    "prices.head()"
   ]
  },
  {
   "cell_type": "markdown",
   "metadata": {
    "id": "daXfrh_XFf0l"
   },
   "source": [
    "### 2.2 Multi-Column Selection"
   ]
  },
  {
   "cell_type": "markdown",
   "metadata": {
    "id": "WsSnEFfEH5ZU"
   },
   "source": [
    "Multi-column selection in Pandas allows us to select and work with multiple columns of data from a DataFrame at once. This is particularly useful when we need to perform operations or analysis on specific subsets of our data."
   ]
  },
  {
   "cell_type": "code",
   "execution_count": 8,
   "metadata": {
    "id": "XnJFAO8KFf0m"
   },
   "outputs": [
    {
     "data": {
      "text/html": [
       "<div>\n",
       "<style scoped>\n",
       "    .dataframe tbody tr th:only-of-type {\n",
       "        vertical-align: middle;\n",
       "    }\n",
       "\n",
       "    .dataframe tbody tr th {\n",
       "        vertical-align: top;\n",
       "    }\n",
       "\n",
       "    .dataframe thead th {\n",
       "        text-align: right;\n",
       "    }\n",
       "</style>\n",
       "<table border=\"1\" class=\"dataframe\">\n",
       "  <thead>\n",
       "    <tr style=\"text-align: right;\">\n",
       "      <th></th>\n",
       "      <th>ProductID</th>\n",
       "      <th>ProductName</th>\n",
       "      <th>Category</th>\n",
       "      <th>Price</th>\n",
       "      <th>QuantitySold</th>\n",
       "      <th>DateSold</th>\n",
       "    </tr>\n",
       "  </thead>\n",
       "  <tbody>\n",
       "    <tr>\n",
       "      <th>0</th>\n",
       "      <td>1</td>\n",
       "      <td>Apple iPhone 12</td>\n",
       "      <td>Electronics</td>\n",
       "      <td>799</td>\n",
       "      <td>50</td>\n",
       "      <td>2022-01-01</td>\n",
       "    </tr>\n",
       "    <tr>\n",
       "      <th>1</th>\n",
       "      <td>2</td>\n",
       "      <td>Samsung Galaxy S21</td>\n",
       "      <td>Electronics</td>\n",
       "      <td>699</td>\n",
       "      <td>45</td>\n",
       "      <td>2022-01-02</td>\n",
       "    </tr>\n",
       "    <tr>\n",
       "      <th>2</th>\n",
       "      <td>3</td>\n",
       "      <td>HP Laptop</td>\n",
       "      <td>Electronics</td>\n",
       "      <td>999</td>\n",
       "      <td>30</td>\n",
       "      <td>2022-01-03</td>\n",
       "    </tr>\n",
       "    <tr>\n",
       "      <th>3</th>\n",
       "      <td>4</td>\n",
       "      <td>Adidas Running Shoes</td>\n",
       "      <td>Fashion</td>\n",
       "      <td>120</td>\n",
       "      <td>100</td>\n",
       "      <td>2022-01-04</td>\n",
       "    </tr>\n",
       "    <tr>\n",
       "      <th>4</th>\n",
       "      <td>5</td>\n",
       "      <td>Nike Basketball Shoes</td>\n",
       "      <td>Fashion</td>\n",
       "      <td>150</td>\n",
       "      <td>80</td>\n",
       "      <td>2022-01-05</td>\n",
       "    </tr>\n",
       "  </tbody>\n",
       "</table>\n",
       "</div>"
      ],
      "text/plain": [
       "   ProductID            ProductName     Category  Price  QuantitySold  \\\n",
       "0          1        Apple iPhone 12  Electronics    799            50   \n",
       "1          2     Samsung Galaxy S21  Electronics    699            45   \n",
       "2          3              HP Laptop  Electronics    999            30   \n",
       "3          4   Adidas Running Shoes      Fashion    120           100   \n",
       "4          5  Nike Basketball Shoes      Fashion    150            80   \n",
       "\n",
       "     DateSold  \n",
       "0  2022-01-01  \n",
       "1  2022-01-02  \n",
       "2  2022-01-03  \n",
       "3  2022-01-04  \n",
       "4  2022-01-05  "
      ]
     },
     "execution_count": 8,
     "metadata": {},
     "output_type": "execute_result"
    }
   ],
   "source": [
    "# Load the dataset\n",
    "df1 = pd.read_csv('https://afterwork.ai/ds/e/retail_store_srghf.csv')\n",
    "\n",
    "df1.head()"
   ]
  },
  {
   "cell_type": "code",
   "execution_count": 9,
   "metadata": {
    "id": "U9QltbQ-IG-z"
   },
   "outputs": [
    {
     "data": {
      "text/html": [
       "<div>\n",
       "<style scoped>\n",
       "    .dataframe tbody tr th:only-of-type {\n",
       "        vertical-align: middle;\n",
       "    }\n",
       "\n",
       "    .dataframe tbody tr th {\n",
       "        vertical-align: top;\n",
       "    }\n",
       "\n",
       "    .dataframe thead th {\n",
       "        text-align: right;\n",
       "    }\n",
       "</style>\n",
       "<table border=\"1\" class=\"dataframe\">\n",
       "  <thead>\n",
       "    <tr style=\"text-align: right;\">\n",
       "      <th></th>\n",
       "      <th>ProductName</th>\n",
       "      <th>Category</th>\n",
       "      <th>Price</th>\n",
       "    </tr>\n",
       "  </thead>\n",
       "  <tbody>\n",
       "    <tr>\n",
       "      <th>0</th>\n",
       "      <td>Apple iPhone 12</td>\n",
       "      <td>Electronics</td>\n",
       "      <td>799</td>\n",
       "    </tr>\n",
       "    <tr>\n",
       "      <th>1</th>\n",
       "      <td>Samsung Galaxy S21</td>\n",
       "      <td>Electronics</td>\n",
       "      <td>699</td>\n",
       "    </tr>\n",
       "    <tr>\n",
       "      <th>2</th>\n",
       "      <td>HP Laptop</td>\n",
       "      <td>Electronics</td>\n",
       "      <td>999</td>\n",
       "    </tr>\n",
       "    <tr>\n",
       "      <th>3</th>\n",
       "      <td>Adidas Running Shoes</td>\n",
       "      <td>Fashion</td>\n",
       "      <td>120</td>\n",
       "    </tr>\n",
       "    <tr>\n",
       "      <th>4</th>\n",
       "      <td>Nike Basketball Shoes</td>\n",
       "      <td>Fashion</td>\n",
       "      <td>150</td>\n",
       "    </tr>\n",
       "    <tr>\n",
       "      <th>5</th>\n",
       "      <td>Levi's Jeans</td>\n",
       "      <td>Fashion</td>\n",
       "      <td>70</td>\n",
       "    </tr>\n",
       "    <tr>\n",
       "      <th>6</th>\n",
       "      <td>Instant Pot</td>\n",
       "      <td>Home Appliances</td>\n",
       "      <td>80</td>\n",
       "    </tr>\n",
       "    <tr>\n",
       "      <th>7</th>\n",
       "      <td>Dyson Vacuum Cleaner</td>\n",
       "      <td>Home Appliances</td>\n",
       "      <td>300</td>\n",
       "    </tr>\n",
       "    <tr>\n",
       "      <th>8</th>\n",
       "      <td>Philips Air Fryer</td>\n",
       "      <td>Home Appliances</td>\n",
       "      <td>100</td>\n",
       "    </tr>\n",
       "    <tr>\n",
       "      <th>9</th>\n",
       "      <td>Apple iPad Pro</td>\n",
       "      <td>Electronics</td>\n",
       "      <td>799</td>\n",
       "    </tr>\n",
       "    <tr>\n",
       "      <th>10</th>\n",
       "      <td>Samsung Galaxy Tab S7</td>\n",
       "      <td>Electronics</td>\n",
       "      <td>649</td>\n",
       "    </tr>\n",
       "    <tr>\n",
       "      <th>11</th>\n",
       "      <td>Dell XPS Laptop</td>\n",
       "      <td>Electronics</td>\n",
       "      <td>1299</td>\n",
       "    </tr>\n",
       "    <tr>\n",
       "      <th>12</th>\n",
       "      <td>Puma Running Shoes</td>\n",
       "      <td>Fashion</td>\n",
       "      <td>110</td>\n",
       "    </tr>\n",
       "    <tr>\n",
       "      <th>13</th>\n",
       "      <td>Under Armour Training Shoes</td>\n",
       "      <td>Fashion</td>\n",
       "      <td>130</td>\n",
       "    </tr>\n",
       "    <tr>\n",
       "      <th>14</th>\n",
       "      <td>Calvin Klein Jeans</td>\n",
       "      <td>Fashion</td>\n",
       "      <td>85</td>\n",
       "    </tr>\n",
       "    <tr>\n",
       "      <th>15</th>\n",
       "      <td>KitchenAid Mixer</td>\n",
       "      <td>Home Appliances</td>\n",
       "      <td>200</td>\n",
       "    </tr>\n",
       "    <tr>\n",
       "      <th>16</th>\n",
       "      <td>Bissell Vacuum Cleaner</td>\n",
       "      <td>Home Appliances</td>\n",
       "      <td>250</td>\n",
       "    </tr>\n",
       "    <tr>\n",
       "      <th>17</th>\n",
       "      <td>Tefal Air Fryer</td>\n",
       "      <td>Home Appliances</td>\n",
       "      <td>120</td>\n",
       "    </tr>\n",
       "  </tbody>\n",
       "</table>\n",
       "</div>"
      ],
      "text/plain": [
       "                    ProductName         Category  Price\n",
       "0               Apple iPhone 12      Electronics    799\n",
       "1            Samsung Galaxy S21      Electronics    699\n",
       "2                     HP Laptop      Electronics    999\n",
       "3          Adidas Running Shoes          Fashion    120\n",
       "4         Nike Basketball Shoes          Fashion    150\n",
       "5                  Levi's Jeans          Fashion     70\n",
       "6                   Instant Pot  Home Appliances     80\n",
       "7          Dyson Vacuum Cleaner  Home Appliances    300\n",
       "8             Philips Air Fryer  Home Appliances    100\n",
       "9                Apple iPad Pro      Electronics    799\n",
       "10        Samsung Galaxy Tab S7      Electronics    649\n",
       "11              Dell XPS Laptop      Electronics   1299\n",
       "12           Puma Running Shoes          Fashion    110\n",
       "13  Under Armour Training Shoes          Fashion    130\n",
       "14           Calvin Klein Jeans          Fashion     85\n",
       "15             KitchenAid Mixer  Home Appliances    200\n",
       "16       Bissell Vacuum Cleaner  Home Appliances    250\n",
       "17              Tefal Air Fryer  Home Appliances    120"
      ]
     },
     "execution_count": 9,
     "metadata": {},
     "output_type": "execute_result"
    }
   ],
   "source": [
    "# Select multiple columns\n",
    "selected_columns = df1[['ProductName', 'Category', 'Price']]\n",
    "\n",
    "# Display the new DataFrame\n",
    "selected_columns"
   ]
  },
  {
   "cell_type": "markdown",
   "metadata": {
    "id": "AFqAIw5JIdtr"
   },
   "source": [
    "### Challenges"
   ]
  },
  {
   "cell_type": "markdown",
   "metadata": {
    "id": "-U7wy9OiMJCP"
   },
   "source": [
    "#### Challenge 2"
   ]
  },
  {
   "cell_type": "markdown",
   "metadata": {
    "id": "MstfiSRxMRbp"
   },
   "source": [
    "Using the dataset from the URL: https://afterwork.ai/ds/ch/retail_store_5onc.csv, select the 'Product Name', 'Category', and 'Price' columns. Then, create a new DataFrame with these columns. Remember to use Pandas to read in the CSV file and select the appropriate columns."
   ]
  },
  {
   "cell_type": "code",
   "execution_count": 15,
   "metadata": {
    "id": "618QljGLMJCS"
   },
   "outputs": [
    {
     "data": {
      "text/html": [
       "<div>\n",
       "<style scoped>\n",
       "    .dataframe tbody tr th:only-of-type {\n",
       "        vertical-align: middle;\n",
       "    }\n",
       "\n",
       "    .dataframe tbody tr th {\n",
       "        vertical-align: top;\n",
       "    }\n",
       "\n",
       "    .dataframe thead th {\n",
       "        text-align: right;\n",
       "    }\n",
       "</style>\n",
       "<table border=\"1\" class=\"dataframe\">\n",
       "  <thead>\n",
       "    <tr style=\"text-align: right;\">\n",
       "      <th></th>\n",
       "      <th>Product Name</th>\n",
       "      <th>Category</th>\n",
       "      <th>Price</th>\n",
       "    </tr>\n",
       "  </thead>\n",
       "  <tbody>\n",
       "    <tr>\n",
       "      <th>0</th>\n",
       "      <td>Apple iPhone 12</td>\n",
       "      <td>Electronics</td>\n",
       "      <td>799</td>\n",
       "    </tr>\n",
       "    <tr>\n",
       "      <th>1</th>\n",
       "      <td>Samsung Galaxy S21</td>\n",
       "      <td>Electronics</td>\n",
       "      <td>699</td>\n",
       "    </tr>\n",
       "    <tr>\n",
       "      <th>2</th>\n",
       "      <td>HP Pavilion Laptop</td>\n",
       "      <td>Electronics</td>\n",
       "      <td>599</td>\n",
       "    </tr>\n",
       "    <tr>\n",
       "      <th>3</th>\n",
       "      <td>Apple MacBook Pro</td>\n",
       "      <td>Electronics</td>\n",
       "      <td>1299</td>\n",
       "    </tr>\n",
       "    <tr>\n",
       "      <th>4</th>\n",
       "      <td>Sony PlayStation 5</td>\n",
       "      <td>Electronics</td>\n",
       "      <td>499</td>\n",
       "    </tr>\n",
       "    <tr>\n",
       "      <th>5</th>\n",
       "      <td>Nike Air Max Shoes</td>\n",
       "      <td>Fashion</td>\n",
       "      <td>149</td>\n",
       "    </tr>\n",
       "    <tr>\n",
       "      <th>6</th>\n",
       "      <td>Adidas Ultraboost Shoes</td>\n",
       "      <td>Fashion</td>\n",
       "      <td>179</td>\n",
       "    </tr>\n",
       "    <tr>\n",
       "      <th>7</th>\n",
       "      <td>Levi's 501 Jeans</td>\n",
       "      <td>Fashion</td>\n",
       "      <td>69</td>\n",
       "    </tr>\n",
       "    <tr>\n",
       "      <th>8</th>\n",
       "      <td>Calvin Klein T-Shirt</td>\n",
       "      <td>Fashion</td>\n",
       "      <td>29</td>\n",
       "    </tr>\n",
       "    <tr>\n",
       "      <th>9</th>\n",
       "      <td>Ray-Ban Sunglasses</td>\n",
       "      <td>Fashion</td>\n",
       "      <td>153</td>\n",
       "    </tr>\n",
       "    <tr>\n",
       "      <th>10</th>\n",
       "      <td>Apple iPad Pro</td>\n",
       "      <td>Electronics</td>\n",
       "      <td>799</td>\n",
       "    </tr>\n",
       "    <tr>\n",
       "      <th>11</th>\n",
       "      <td>Microsoft Surface Pro</td>\n",
       "      <td>Electronics</td>\n",
       "      <td>899</td>\n",
       "    </tr>\n",
       "    <tr>\n",
       "      <th>12</th>\n",
       "      <td>Apple AirPods Pro</td>\n",
       "      <td>Electronics</td>\n",
       "      <td>199</td>\n",
       "    </tr>\n",
       "    <tr>\n",
       "      <th>13</th>\n",
       "      <td>Samsung Galaxy Buds</td>\n",
       "      <td>Electronics</td>\n",
       "      <td>129</td>\n",
       "    </tr>\n",
       "    <tr>\n",
       "      <th>14</th>\n",
       "      <td>Apple Watch Series 6</td>\n",
       "      <td>Electronics</td>\n",
       "      <td>399</td>\n",
       "    </tr>\n",
       "    <tr>\n",
       "      <th>15</th>\n",
       "      <td>Fossil Men's Watch</td>\n",
       "      <td>Fashion</td>\n",
       "      <td>199</td>\n",
       "    </tr>\n",
       "    <tr>\n",
       "      <th>16</th>\n",
       "      <td>Michael Kors Women's Watch</td>\n",
       "      <td>Fashion</td>\n",
       "      <td>249</td>\n",
       "    </tr>\n",
       "    <tr>\n",
       "      <th>17</th>\n",
       "      <td>Coach Handbag</td>\n",
       "      <td>Fashion</td>\n",
       "      <td>299</td>\n",
       "    </tr>\n",
       "    <tr>\n",
       "      <th>18</th>\n",
       "      <td>Michael Kors Handbag</td>\n",
       "      <td>Fashion</td>\n",
       "      <td>349</td>\n",
       "    </tr>\n",
       "    <tr>\n",
       "      <th>19</th>\n",
       "      <td>Apple iPhone 13</td>\n",
       "      <td>Electronics</td>\n",
       "      <td>999</td>\n",
       "    </tr>\n",
       "  </tbody>\n",
       "</table>\n",
       "</div>"
      ],
      "text/plain": [
       "                  Product Name     Category  Price\n",
       "0              Apple iPhone 12  Electronics    799\n",
       "1           Samsung Galaxy S21  Electronics    699\n",
       "2           HP Pavilion Laptop  Electronics    599\n",
       "3            Apple MacBook Pro  Electronics   1299\n",
       "4           Sony PlayStation 5  Electronics    499\n",
       "5           Nike Air Max Shoes      Fashion    149\n",
       "6      Adidas Ultraboost Shoes      Fashion    179\n",
       "7             Levi's 501 Jeans      Fashion     69\n",
       "8         Calvin Klein T-Shirt      Fashion     29\n",
       "9           Ray-Ban Sunglasses      Fashion    153\n",
       "10              Apple iPad Pro  Electronics    799\n",
       "11       Microsoft Surface Pro  Electronics    899\n",
       "12           Apple AirPods Pro  Electronics    199\n",
       "13         Samsung Galaxy Buds  Electronics    129\n",
       "14        Apple Watch Series 6  Electronics    399\n",
       "15          Fossil Men's Watch      Fashion    199\n",
       "16  Michael Kors Women's Watch      Fashion    249\n",
       "17               Coach Handbag      Fashion    299\n",
       "18        Michael Kors Handbag      Fashion    349\n",
       "19             Apple iPhone 13  Electronics    999"
      ]
     },
     "execution_count": 15,
     "metadata": {},
     "output_type": "execute_result"
    }
   ],
   "source": [
    "# Write your code here\n",
    "df2 = pd.read_csv(\"https://afterwork.ai/ds/ch/retail_store_5onc.csv\")\n",
    "df2.head()\n",
    "\n",
    "selected_columnsdf2 = df2[['Product Name', 'Category', 'Price']]\n",
    "selected_columnsdf2"
   ]
  },
  {
   "cell_type": "markdown",
   "metadata": {
    "id": "27ITHkEqEoO-"
   },
   "source": [
    "## 3. Filtering Data"
   ]
  },
  {
   "cell_type": "markdown",
   "metadata": {
    "id": "u_ODDCozVdPS"
   },
   "source": [
    "### 3.1 Using query() for filtering"
   ]
  },
  {
   "cell_type": "markdown",
   "metadata": {
    "id": "clmPwZSgYNXd"
   },
   "source": [
    "Data filtering using the query() function in Pandas allows us to filter data based on a condition. This function is used to extract data that fulfills a certain condition from a DataFrame. The query() function is important because it provides a more efficient and faster way to filter data compared to traditional methods. It is especially useful when dealing with large datasets."
   ]
  },
  {
   "cell_type": "code",
   "execution_count": null,
   "metadata": {
    "id": "e5Cos9RhEqev"
   },
   "outputs": [],
   "source": [
    "# Load the dataset\n",
    "df3 = pd.read_csv('https://afterwork.ai/ds/e/retail_store_bqfht.csv')\n",
    "\n",
    "# Preview the dataset\n",
    "df3.head()"
   ]
  },
  {
   "cell_type": "code",
   "execution_count": null,
   "metadata": {
    "colab": {
     "base_uri": "https://localhost:8080/",
     "height": 206
    },
    "id": "0Jg0LK51Zrq-",
    "outputId": "39efd0b7-e0ca-44f8-8e3e-c71c0aac5a79"
   },
   "outputs": [],
   "source": [
    "# Filter the dataset using query()\n",
    "filtered_df3 = df3.query('(Price==1.00) & (Sold==100)')\n",
    "\n",
    "# Display the filtered records\n",
    "filtered_df3"
   ]
  },
  {
   "cell_type": "markdown",
   "metadata": {
    "id": "yXZea-ZzVosj"
   },
   "source": [
    "### 3.2 Using loc for filtering"
   ]
  },
  {
   "cell_type": "markdown",
   "metadata": {
    "id": "TYFb9Ua4WtM7"
   },
   "source": [
    "The loc attribute in Pandas is a powerful tool that allows us to access and manipulate data in a DataFrame based on labels. It is used for indexing and slicing the data frame, in a way that is more intuitive to users. The loc attribute is important because it provides a flexible and efficient way to filter and manipulate data in a DataFrame."
   ]
  },
  {
   "cell_type": "code",
   "execution_count": null,
   "metadata": {
    "colab": {
     "base_uri": "https://localhost:8080/",
     "height": 206
    },
    "id": "No5yok5-Vosy",
    "outputId": "e7a53f57-13a4-4819-b0ea-7891ca61a06f"
   },
   "outputs": [],
   "source": [
    "# Load the dataset\n",
    "df4 = pd.read_csv('https://afterwork.ai/ds/e/retail_store_yngqw.csv')\n",
    "\n",
    "# Preview the dataset\n",
    "df4.head()"
   ]
  },
  {
   "cell_type": "code",
   "execution_count": null,
   "metadata": {
    "colab": {
     "base_uri": "https://localhost:8080/",
     "height": 206
    },
    "id": "YZ4moq8hW7LJ",
    "outputId": "639eb4f8-7a99-4e66-f87f-e49af2f18a2d"
   },
   "outputs": [],
   "source": [
    "# Filter rows where the 'Price' column is greater than 1000\n",
    "filtered_df4 = df4.loc[df4['Price'] > 1000]\n",
    "\n",
    "# Display filtered rows\n",
    "filtered_df4.head()"
   ]
  },
  {
   "cell_type": "code",
   "execution_count": null,
   "metadata": {
    "colab": {
     "base_uri": "https://localhost:8080/",
     "height": 206
    },
    "id": "gJgFyu8pW9LV",
    "outputId": "c0500f9d-44fb-440b-9bcb-0d7925453d1f"
   },
   "outputs": [],
   "source": [
    "# Filter 'Product' and 'Price' columns for rows where 'Category' is 'Electronics'\n",
    "electronics_df4 = df4.loc[df4['Category'] == 'Electronics', ['Product', 'Price']]\n",
    "\n",
    "# Display electronics_df\n",
    "electronics_df4.head()"
   ]
  },
  {
   "cell_type": "code",
   "execution_count": null,
   "metadata": {
    "colab": {
     "base_uri": "https://localhost:8080/",
     "height": 206
    },
    "id": "xOcQIfevW-jh",
    "outputId": "f75ada49-e6a1-4284-f555-5fdca3038dcf"
   },
   "outputs": [],
   "source": [
    "# Filter 'Product' and 'Sales' columns for rows where 'Sales' is greater than 5000\n",
    "high_sales_df4 = df4.loc[df4['Sales'] > 5000, ['Product', 'Sales']]\n",
    "\n",
    "# Display high_sales_df\n",
    "high_sales_df4.head()"
   ]
  },
  {
   "cell_type": "markdown",
   "metadata": {
    "id": "JQ5VzUGPVt3C"
   },
   "source": [
    "### 3.3 Using iloc for filtering"
   ]
  },
  {
   "cell_type": "markdown",
   "metadata": {
    "id": "DnRstx5cYVcl"
   },
   "source": [
    "The iloc function in Pandas is a powerful tool that allows us to filter data based on its integer location. It is a purely integer-location based indexing for selection by position. This is important because it allows us to access and manipulate data in a more precise manner. To use iloc, we first need to understand that it works based on the integer index position of the data. For example, if we want to select the first row of a DataFrame, we would use df.iloc[0]. If we want to select a specific column, we would use df.iloc[:, column_number]."
   ]
  },
  {
   "cell_type": "code",
   "execution_count": null,
   "metadata": {
    "id": "mcwzJ_YvVxLq"
   },
   "outputs": [],
   "source": [
    "# Load the dataset\n",
    "df5 = pd.read_csv('https://afterwork.ai/ds/e/retail_store_8x90d.csv')\n",
    "\n",
    "# Preview the dataset\n",
    "df5.head()"
   ]
  },
  {
   "cell_type": "code",
   "execution_count": null,
   "metadata": {
    "id": "zInE8T3zYh7n"
   },
   "outputs": [],
   "source": [
    "# Use iloc to select the first 5 rows\n",
    "first_five_rows = df5.iloc[0:5]\n",
    "\n",
    "# Display first_five_rows\n",
    "first_five_rows"
   ]
  },
  {
   "cell_type": "code",
   "execution_count": null,
   "metadata": {
    "id": "fTMvbaTjYl_B"
   },
   "outputs": [],
   "source": [
    "# Use iloc to select the third column\n",
    "third_column = df5.iloc[:, [2]]\n",
    "\n",
    "# Display third_column\n",
    "third_column"
   ]
  },
  {
   "cell_type": "code",
   "execution_count": null,
   "metadata": {
    "colab": {
     "base_uri": "https://localhost:8080/",
     "height": 89
    },
    "id": "eu7hZ732YnV2",
    "outputId": "44018e0b-833a-4791-ac1f-3fe565b87f9f"
   },
   "outputs": [],
   "source": [
    "# Use iloc to select a specific cell (row 3, column 2)\n",
    "specific_cell = df5.iloc[[2], [1]]\n",
    "\n",
    "# Display specific_cell\n",
    "specific_cell"
   ]
  },
  {
   "cell_type": "code",
   "execution_count": null,
   "metadata": {
    "colab": {
     "base_uri": "https://localhost:8080/",
     "height": 143
    },
    "id": "1vFb9NqAYoi1",
    "outputId": "8e01a928-f663-4a4d-ba88-e425487f7cf3"
   },
   "outputs": [],
   "source": [
    "# Use iloc to select a range of rows and columns (rows 1-3, columns 2-4)\n",
    "subset = df5.iloc[0:3, 1:4]\n",
    "\n",
    "# Display subset\n",
    "subset"
   ]
  },
  {
   "cell_type": "markdown",
   "metadata": {
    "id": "UswcNqxaXYF8"
   },
   "source": [
    "### Challenge"
   ]
  },
  {
   "cell_type": "markdown",
   "metadata": {
    "id": "r_e-FwWhXaDm"
   },
   "source": [
    "#### Challenge 2"
   ]
  },
  {
   "cell_type": "markdown",
   "metadata": {
    "id": "YW9WbkcKXr_5"
   },
   "source": [
    "Using the dataset from the URL: https://afterwork.ai/ds/ch/retail_store_h4lx.csv, filter the data to only include products in the 'Electronics' category that have a price greater than $700. Use the loc attribute in Pandas for this task."
   ]
  },
  {
   "cell_type": "code",
   "execution_count": null,
   "metadata": {
    "id": "SoPfhMm6XeWU"
   },
   "outputs": [],
   "source": [
    "# Write your code here\n",
    "df6 = pd.read_csv(\"https://afterwork.ai/ds/ch/retail_store_h4lx.csv\")\n",
    "df6.head()"
   ]
  },
  {
   "cell_type": "code",
   "execution_count": null,
   "metadata": {
    "id": "Z3xmci1mX4x9"
   },
   "outputs": [],
   "source": [
    "# Write your code here\n",
    "filtered_df6 = df6.loc[(df6['Category']=='Electronics') & (df6['Price']>700)]\n",
    "filtered_df6"
   ]
  },
  {
   "cell_type": "markdown",
   "metadata": {
    "id": "wHAW1B81Eqy9"
   },
   "source": [
    "## 4. Aggregating Data"
   ]
  },
  {
   "cell_type": "markdown",
   "metadata": {
    "id": "Jbdq-H9ab60n"
   },
   "source": [
    "### 4.1 Using Groupby for Data Aggregation"
   ]
  },
  {
   "cell_type": "markdown",
   "metadata": {
    "id": "rZzFsS3scGT5"
   },
   "source": [
    "The groupby method in Pandas allows us to group data based on certain criteria and then perform aggregate functions on those groups. For instance, if we have a data set of sales data and we want to know the total sales per region, we would group the data by the 'region' column and then apply the sum function to the 'sales' column. This is a powerful tool for data analysis as it enables us to summarize and understand complex data sets."
   ]
  },
  {
   "cell_type": "code",
   "execution_count": null,
   "metadata": {
    "colab": {
     "base_uri": "https://localhost:8080/",
     "height": 206
    },
    "id": "s-lwbs-GEs1f",
    "outputId": "8aef1b0d-9b92-4953-ce2d-16f7ef13a6b6"
   },
   "outputs": [],
   "source": [
    "# Load the data\n",
    "df7= pd.read_csv('https://afterwork.ai/ds/e/retail_store_duo4.csv')\n",
    "\n",
    "# Preview the dataset\n",
    "df7.head()"
   ]
  },
  {
   "cell_type": "code",
   "execution_count": null,
   "metadata": {
    "colab": {
     "base_uri": "https://localhost:8080/",
     "height": 125
    },
    "id": "Zm_Ro1uFcQKy",
    "outputId": "8132a1db-28ee-495b-c118-b5b104b863ee"
   },
   "outputs": [],
   "source": [
    "# Group by 'Category' and calculate total sales\n",
    "grouped_df7 = df7.groupby('Category')['Sales'].sum().reset_index()\n",
    "\n",
    "# Print the result\n",
    "grouped_df7"
   ]
  },
  {
   "cell_type": "markdown",
   "metadata": {
    "id": "M2hIOVDck-Bx"
   },
   "source": [
    "### 4.2 Using a Pivot Table for Data Aggregation"
   ]
  },
  {
   "cell_type": "markdown",
   "metadata": {
    "id": "-h-7Vk7Sk-CA"
   },
   "source": [
    "Using pivot table in Pandas allows us to summarize and aggregate data based on one or more columns. It is a powerful tool for data analysis and can provide valuable insights into the relationships between variables."
   ]
  },
  {
   "cell_type": "code",
   "execution_count": null,
   "metadata": {
    "colab": {
     "base_uri": "https://localhost:8080/",
     "height": 206
    },
    "id": "RJXdw11kk-CA",
    "outputId": "77fd4f3e-f090-403a-94fa-2d79a0f0cabe"
   },
   "outputs": [],
   "source": [
    "# Load the data\n",
    "df8 = pd.read_csv(\"https://afterwork.ai/ds/e/retail_store_smzh8.csv\")\n",
    "\n",
    "# Preview the dataset\n",
    "df8.head()"
   ]
  },
  {
   "cell_type": "code",
   "execution_count": null,
   "metadata": {
    "id": "Ty7n2g_Nk-CB"
   },
   "outputs": [],
   "source": [
    "# Pivot table to aggregate data based on Category and calculate the sum of Price and Quantity\n",
    "pivot_table = pd.pivot_table(df, values=['Price', 'Quantity'], index='Category', aggfunc='sum')\n",
    "# Display the pivot table\n",
    "pivot_table"
   ]
  },
  {
   "cell_type": "markdown",
   "metadata": {
    "id": "DZpqGJBJcXRJ"
   },
   "source": [
    "### Challenges"
   ]
  },
  {
   "cell_type": "markdown",
   "metadata": {
    "id": "jHVi6Wd6cYlK"
   },
   "source": [
    "#### Challenge 1"
   ]
  },
  {
   "cell_type": "markdown",
   "metadata": {
    "id": "h3sbhf2Zcjvx"
   },
   "source": [
    "Using the dataset from https://afterwork.ai/ds/ch/retail_store_hkg0.csv, write a Python program that groups the data by 'Category' and calculates the total sales for each category. Use the pandas library to read the CSV file, the .groupby() method to group the data, and the .sum() function to calculate the total sales."
   ]
  },
  {
   "cell_type": "code",
   "execution_count": null,
   "metadata": {
    "id": "skEJ6iU6ceQD"
   },
   "outputs": [],
   "source": [
    "# Write your code here\n"
   ]
  },
  {
   "cell_type": "markdown",
   "metadata": {
    "id": "8qAATdbzEtJ9"
   },
   "source": [
    "## 5. Visualizing Data"
   ]
  },
  {
   "cell_type": "code",
   "execution_count": null,
   "metadata": {
    "id": "2jP0H8qul8Kd"
   },
   "outputs": [],
   "source": [
    "# Import the Matlotlib library to perform data visualization\n",
    "\n",
    "import matplotlib.pyplot as plt"
   ]
  },
  {
   "cell_type": "markdown",
   "metadata": {
    "id": "zEBJB9cKEG7o"
   },
   "source": [
    "### 5.1 Bar chart"
   ]
  },
  {
   "cell_type": "markdown",
   "metadata": {
    "id": "tW0sKH37kbt8"
   },
   "source": [
    "A bar chart is a type of chart that presents categorical data with rectangular bars. The lengths of the bars are proportional to the values they represent. This type of chart is commonly used to compare and visualize data across different categories.\n"
   ]
  },
  {
   "cell_type": "code",
   "execution_count": null,
   "metadata": {
    "colab": {
     "base_uri": "https://localhost:8080/",
     "height": 206
    },
    "id": "qlWst9tCE80G",
    "outputId": "ff07508e-0a23-4e59-ea97-bfb389ec69bc"
   },
   "outputs": [],
   "source": [
    "# Read the dataset from the URL\n",
    "df = pd.read_csv(\"https://afterwork.ai/ds/ch/retail_store_xrku.csv\")\n",
    "\n",
    "# Preview the dataset\n",
    "df.head()"
   ]
  },
  {
   "cell_type": "code",
   "execution_count": null,
   "metadata": {
    "colab": {
     "base_uri": "https://localhost:8080/"
    },
    "id": "O5gNJKs2m8Px",
    "outputId": "d4cc8d5a-8622-48e8-f551-70106465a8ec"
   },
   "outputs": [],
   "source": [
    "# Count the number of occurrences for each category\n",
    "category_counts = df['Category'].value_counts()\n",
    "\n",
    "# Preview category_counts\n",
    "category_counts"
   ]
  },
  {
   "cell_type": "code",
   "execution_count": null,
   "metadata": {
    "colab": {
     "base_uri": "https://localhost:8080/",
     "height": 539
    },
    "id": "A2lxph3Bk19u",
    "outputId": "901f17dc-415c-44a2-fef4-274e6b74a20c"
   },
   "outputs": [],
   "source": [
    "# Create a bar chart using the category counts\n",
    "plt.bar(category_counts.index, category_counts.values)\n",
    "\n",
    "# Set the title and labels for the chart\n",
    "plt.title(\"Quantity of Each Category in Retail Store\")\n",
    "plt.xlabel(\"Category\")\n",
    "plt.ylabel(\"Quantity\")\n",
    "\n",
    "# Rotate the x-axis labels for better readability\n",
    "plt.xticks(rotation=90)\n",
    "\n",
    "# Display the chart\n",
    "plt.show()"
   ]
  },
  {
   "cell_type": "markdown",
   "metadata": {
    "id": "MaQuSFJfEMu8"
   },
   "source": [
    "### 5.2 Histogram"
   ]
  },
  {
   "cell_type": "markdown",
   "metadata": {
    "id": "DQ8mSGgumWYY"
   },
   "source": [
    "A histogram is a graphical representation of the distribution of a dataset. It is an estimate of the probability distribution of a continuous variable. In a histogram, the data is divided into a set of bins, and the count of observations that fall into each bin is represented by the height of a bar. Histograms are commonly used to visualize the frequency or density of data in different intervals or ranges."
   ]
  },
  {
   "cell_type": "code",
   "execution_count": null,
   "metadata": {
    "id": "Jgb_8aIoEMvZ"
   },
   "outputs": [],
   "source": [
    "# Load the dataset\n",
    "df = pd.read_csv('https://afterwork.ai/ds/ch/computer_science_52z9.csv')\n",
    "\n",
    "# Preview the dataset\n",
    "df.head()"
   ]
  },
  {
   "cell_type": "code",
   "execution_count": null,
   "metadata": {
    "colab": {
     "base_uri": "https://localhost:8080/",
     "height": 472
    },
    "id": "GupRDYq0vC_-",
    "outputId": "e2b1100a-612e-4d27-8b64-6651e2f22cf1"
   },
   "outputs": [],
   "source": [
    "# Create the histogram\n",
    "plt.hist(df['NetworkingSkill'], bins=10)\n",
    "\n",
    "# Add labels and title\n",
    "plt.title('Networking Skill Histogram')\n",
    "plt.xlabel('Networking Skill')\n",
    "plt.ylabel('Frequency')\n",
    "\n",
    "# Display the plot\n",
    "plt.show()"
   ]
  },
  {
   "cell_type": "markdown",
   "metadata": {
    "id": "zocoI3m-EYYT"
   },
   "source": [
    "### 5.3 Line chart"
   ]
  },
  {
   "cell_type": "markdown",
   "metadata": {
    "id": "Lmeb6CseqFyQ"
   },
   "source": [
    "A line chart is a type of chart that displays data as a series of points connected by straight lines. It is used to visualize trends and patterns over time or across different categories. Line charts are particularly useful for showing the relationship between two variables and how they change over a continuous range."
   ]
  },
  {
   "cell_type": "code",
   "execution_count": null,
   "metadata": {
    "colab": {
     "base_uri": "https://localhost:8080/",
     "height": 206
    },
    "id": "NpfxHpttqTgU",
    "outputId": "f1b2a1e3-0ef2-475a-cc4a-b22ea2400e82"
   },
   "outputs": [],
   "source": [
    "# Read the CSV file into a DataFrame\n",
    "df = pd.read_csv(\"https://afterwork.ai/ds/e/stock_956yk.csv\")\n",
    "\n",
    "# Preview the dataset\n",
    "df.head()"
   ]
  },
  {
   "cell_type": "code",
   "execution_count": null,
   "metadata": {
    "colab": {
     "base_uri": "https://localhost:8080/",
     "height": 237
    },
    "id": "vdR14zaWs1pG",
    "outputId": "fd81bdc1-6fce-4406-bc5a-3440c6c6b927"
   },
   "outputs": [],
   "source": [
    "# Convert the 'Date' column to datetime format\n",
    "df['Date'] = pd.to_datetime(df['Date'])\n",
    "\n",
    "# Set the 'Date' column as the index\n",
    "df.set_index('Date', inplace=True)\n",
    "\n",
    "# Preview the dataset\n",
    "df.head()"
   ]
  },
  {
   "cell_type": "code",
   "execution_count": null,
   "metadata": {
    "colab": {
     "base_uri": "https://localhost:8080/",
     "height": 524
    },
    "id": "OXnaxJVCuWIb",
    "outputId": "aae1bb2c-6ecd-491c-c8cb-9a9d5e07d41e"
   },
   "outputs": [],
   "source": [
    "# Plot the line chart with vertical x-axis\n",
    "plt.plot(df.index, df['Stock Price'])\n",
    "\n",
    "# Add labels and title\n",
    "plt.xlabel('Date')\n",
    "plt.ylabel('Stock Price')\n",
    "plt.title('Stock Price Over Time')\n",
    "\n",
    "# Display the chart\n",
    "plt.xticks(rotation=45) # Rotate the x-labels\n",
    "plt.show()"
   ]
  },
  {
   "cell_type": "markdown",
   "metadata": {
    "id": "2MBvf8ngEf_T"
   },
   "source": [
    "### 5.4 Scatter plot"
   ]
  },
  {
   "cell_type": "markdown",
   "metadata": {
    "id": "UYckQ_WnsSqF"
   },
   "source": [
    "A scatter plot is a type of graph that shows the relationship between two variables. We can create a scatter plot using Python and Matplotlib by specifying the x-axis and y-axis data points to be plotted. We can also customize the look of our plot with different colors, markers, gridlines, etc. To create a basic scatter plot in Python and Matplotlib we use the plt.scatter() function which takes in two arguments: an array containing x-values and another array containing y-values."
   ]
  },
  {
   "cell_type": "code",
   "execution_count": null,
   "metadata": {
    "colab": {
     "base_uri": "https://localhost:8080/",
     "height": 206
    },
    "id": "CVKFuDpxEf_i",
    "outputId": "4c1b6402-6360-4dfe-82f3-9bd5c9ce30f3"
   },
   "outputs": [],
   "source": [
    "# Reading data from the provided CSV URL into a Pandas DataFrame\n",
    "df = pd.read_csv('https://afterwork.ai/ds/e/computer_science_yigom.csv')\n",
    "\n",
    "# Preview the dataset\n",
    "df.head()"
   ]
  },
  {
   "cell_type": "code",
   "execution_count": null,
   "metadata": {
    "colab": {
     "base_uri": "https://localhost:8080/",
     "height": 472
    },
    "id": "lUiVlIhEsR9L",
    "outputId": "c98b5f31-8895-4467-f281-ce7037ed35a8"
   },
   "outputs": [],
   "source": [
    "# Creating a scatter plot with specified marker size, color, and transparency\n",
    "plt.scatter(df['Speed'], df['Memory Usage'], c='blue')\n",
    "\n",
    "# Adding labels to the axes\n",
    "plt.xlabel('Speed')\n",
    "plt.ylabel('Memory Usage')\n",
    "\n",
    "# Setting the title of the plot\n",
    "plt.title('Programming Language Performance')\n",
    "\n",
    "# Displaying the plot\n",
    "plt.show()"
   ]
  },
  {
   "cell_type": "markdown",
   "metadata": {
    "id": "B9CcU7zqEmTd"
   },
   "source": [
    "### Challenges"
   ]
  },
  {
   "cell_type": "markdown",
   "metadata": {
    "id": "Wza8jdAWnHAF"
   },
   "source": [
    "#### Challenge 3"
   ]
  },
  {
   "cell_type": "code",
   "execution_count": null,
   "metadata": {
    "id": "ueypfOBBnHAG"
   },
   "outputs": [],
   "source": [
    "# Write your code here\n"
   ]
  },
  {
   "cell_type": "markdown",
   "metadata": {
    "id": "6rj5KHpFnHWa"
   },
   "source": [
    "#### Challenge 4"
   ]
  },
  {
   "cell_type": "markdown",
   "metadata": {
    "id": "AZ-kHE4qsfLF"
   },
   "source": [
    "Create a scatter plot using Python and Matplotlib to visualize the relationship between ProgrammingSkill and MathSkill for the students in the dataset located at https://afterwork.ai/ds/ch/computer_science_ct9a.csv. Remember to use the plt.scatter() function and specify the x-axis and y-axis data points to be plotted."
   ]
  },
  {
   "cell_type": "code",
   "execution_count": null,
   "metadata": {
    "id": "jbhlkBRtnHWa"
   },
   "outputs": [],
   "source": [
    "# Write your code here\n"
   ]
  }
 ],
 "metadata": {
  "colab": {
   "collapsed_sections": [
    "w8qMMtyAEKaW",
    "HmQIZGyHEM1N",
    "HiAd-LgnFLHm",
    "dPnc4u_2FUHn",
    "NBTQVCpFRV4A",
    "N47kvM2GRXit",
    "-rAlNGbPElHd",
    "n_TogM_PFbW7",
    "daXfrh_XFf0l",
    "AFqAIw5JIdtr",
    "-U7wy9OiMJCP",
    "27ITHkEqEoO-",
    "u_ODDCozVdPS",
    "yXZea-ZzVosj",
    "JQ5VzUGPVt3C",
    "UswcNqxaXYF8",
    "r_e-FwWhXaDm",
    "wHAW1B81Eqy9",
    "Jbdq-H9ab60n",
    "M2hIOVDck-Bx",
    "jHVi6Wd6cYlK",
    "8qAATdbzEtJ9",
    "zEBJB9cKEG7o",
    "MaQuSFJfEMu8",
    "zocoI3m-EYYT",
    "2MBvf8ngEf_T",
    "B9CcU7zqEmTd",
    "6rj5KHpFnHWa"
   ],
   "provenance": []
  },
  "kernelspec": {
   "display_name": "Python 3 (ipykernel)",
   "language": "python",
   "name": "python3"
  },
  "language_info": {
   "codemirror_mode": {
    "name": "ipython",
    "version": 3
   },
   "file_extension": ".py",
   "mimetype": "text/x-python",
   "name": "python",
   "nbconvert_exporter": "python",
   "pygments_lexer": "ipython3",
   "version": "3.12.4"
  }
 },
 "nbformat": 4,
 "nbformat_minor": 4
}
